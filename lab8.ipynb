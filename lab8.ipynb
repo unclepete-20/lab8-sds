{
  "nbformat": 4,
  "nbformat_minor": 0,
  "metadata": {
    "colab": {
      "provenance": [],
      "gpuType": "T4",
      "mount_file_id": "1Ob7JY5NAQdj95RpVCfddh5w5b2L37_Ru",
      "authorship_tag": "ABX9TyPd6w0AWosLYCa7U3maUkkx",
      "include_colab_link": true
    },
    "kernelspec": {
      "name": "python3",
      "display_name": "Python 3"
    },
    "language_info": {
      "name": "python"
    },
    "accelerator": "GPU",
    "widgets": {
      "application/vnd.jupyter.widget-state+json": {
        "159039a04df147d5a659ba8516dec6c3": {
          "model_module": "@jupyter-widgets/controls",
          "model_name": "HBoxModel",
          "model_module_version": "1.5.0",
          "state": {
            "_dom_classes": [],
            "_model_module": "@jupyter-widgets/controls",
            "_model_module_version": "1.5.0",
            "_model_name": "HBoxModel",
            "_view_count": null,
            "_view_module": "@jupyter-widgets/controls",
            "_view_module_version": "1.5.0",
            "_view_name": "HBoxView",
            "box_style": "",
            "children": [
              "IPY_MODEL_97701490ec7042e3a3ebe9057b1da8d3",
              "IPY_MODEL_e84bfe1f92584f5a8f3dc65c3b696780",
              "IPY_MODEL_0b1fcb201c5741c4bb2bd4eea17f604f"
            ],
            "layout": "IPY_MODEL_42140b4106f14b94a0e12a465277aef8"
          }
        },
        "97701490ec7042e3a3ebe9057b1da8d3": {
          "model_module": "@jupyter-widgets/controls",
          "model_name": "HTMLModel",
          "model_module_version": "1.5.0",
          "state": {
            "_dom_classes": [],
            "_model_module": "@jupyter-widgets/controls",
            "_model_module_version": "1.5.0",
            "_model_name": "HTMLModel",
            "_view_count": null,
            "_view_module": "@jupyter-widgets/controls",
            "_view_module_version": "1.5.0",
            "_view_name": "HTMLView",
            "description": "",
            "description_tooltip": null,
            "layout": "IPY_MODEL_1faef1e737074f9c938601765147b565",
            "placeholder": "​",
            "style": "IPY_MODEL_b10c3cf771314f5e975c3692923572db",
            "value": "DeepFool: 100%"
          }
        },
        "e84bfe1f92584f5a8f3dc65c3b696780": {
          "model_module": "@jupyter-widgets/controls",
          "model_name": "FloatProgressModel",
          "model_module_version": "1.5.0",
          "state": {
            "_dom_classes": [],
            "_model_module": "@jupyter-widgets/controls",
            "_model_module_version": "1.5.0",
            "_model_name": "FloatProgressModel",
            "_view_count": null,
            "_view_module": "@jupyter-widgets/controls",
            "_view_module_version": "1.5.0",
            "_view_name": "ProgressView",
            "bar_style": "success",
            "description": "",
            "description_tooltip": null,
            "layout": "IPY_MODEL_bad116b896c545849f799b1717436654",
            "max": 1,
            "min": 0,
            "orientation": "horizontal",
            "style": "IPY_MODEL_65274ee6c5724b9a94128022f3cbb735",
            "value": 1
          }
        },
        "0b1fcb201c5741c4bb2bd4eea17f604f": {
          "model_module": "@jupyter-widgets/controls",
          "model_name": "HTMLModel",
          "model_module_version": "1.5.0",
          "state": {
            "_dom_classes": [],
            "_model_module": "@jupyter-widgets/controls",
            "_model_module_version": "1.5.0",
            "_model_name": "HTMLModel",
            "_view_count": null,
            "_view_module": "@jupyter-widgets/controls",
            "_view_module_version": "1.5.0",
            "_view_name": "HTMLView",
            "description": "",
            "description_tooltip": null,
            "layout": "IPY_MODEL_d99f8924ba1245ecb87c43c0f749ae7b",
            "placeholder": "​",
            "style": "IPY_MODEL_9cc99cda21824dd7b8ff80c8f7d24d26",
            "value": " 1/1 [00:02&lt;00:00,  2.14s/it]"
          }
        },
        "42140b4106f14b94a0e12a465277aef8": {
          "model_module": "@jupyter-widgets/base",
          "model_name": "LayoutModel",
          "model_module_version": "1.2.0",
          "state": {
            "_model_module": "@jupyter-widgets/base",
            "_model_module_version": "1.2.0",
            "_model_name": "LayoutModel",
            "_view_count": null,
            "_view_module": "@jupyter-widgets/base",
            "_view_module_version": "1.2.0",
            "_view_name": "LayoutView",
            "align_content": null,
            "align_items": null,
            "align_self": null,
            "border": null,
            "bottom": null,
            "display": null,
            "flex": null,
            "flex_flow": null,
            "grid_area": null,
            "grid_auto_columns": null,
            "grid_auto_flow": null,
            "grid_auto_rows": null,
            "grid_column": null,
            "grid_gap": null,
            "grid_row": null,
            "grid_template_areas": null,
            "grid_template_columns": null,
            "grid_template_rows": null,
            "height": null,
            "justify_content": null,
            "justify_items": null,
            "left": null,
            "margin": null,
            "max_height": null,
            "max_width": null,
            "min_height": null,
            "min_width": null,
            "object_fit": null,
            "object_position": null,
            "order": null,
            "overflow": null,
            "overflow_x": null,
            "overflow_y": null,
            "padding": null,
            "right": null,
            "top": null,
            "visibility": null,
            "width": null
          }
        },
        "1faef1e737074f9c938601765147b565": {
          "model_module": "@jupyter-widgets/base",
          "model_name": "LayoutModel",
          "model_module_version": "1.2.0",
          "state": {
            "_model_module": "@jupyter-widgets/base",
            "_model_module_version": "1.2.0",
            "_model_name": "LayoutModel",
            "_view_count": null,
            "_view_module": "@jupyter-widgets/base",
            "_view_module_version": "1.2.0",
            "_view_name": "LayoutView",
            "align_content": null,
            "align_items": null,
            "align_self": null,
            "border": null,
            "bottom": null,
            "display": null,
            "flex": null,
            "flex_flow": null,
            "grid_area": null,
            "grid_auto_columns": null,
            "grid_auto_flow": null,
            "grid_auto_rows": null,
            "grid_column": null,
            "grid_gap": null,
            "grid_row": null,
            "grid_template_areas": null,
            "grid_template_columns": null,
            "grid_template_rows": null,
            "height": null,
            "justify_content": null,
            "justify_items": null,
            "left": null,
            "margin": null,
            "max_height": null,
            "max_width": null,
            "min_height": null,
            "min_width": null,
            "object_fit": null,
            "object_position": null,
            "order": null,
            "overflow": null,
            "overflow_x": null,
            "overflow_y": null,
            "padding": null,
            "right": null,
            "top": null,
            "visibility": null,
            "width": null
          }
        },
        "b10c3cf771314f5e975c3692923572db": {
          "model_module": "@jupyter-widgets/controls",
          "model_name": "DescriptionStyleModel",
          "model_module_version": "1.5.0",
          "state": {
            "_model_module": "@jupyter-widgets/controls",
            "_model_module_version": "1.5.0",
            "_model_name": "DescriptionStyleModel",
            "_view_count": null,
            "_view_module": "@jupyter-widgets/base",
            "_view_module_version": "1.2.0",
            "_view_name": "StyleView",
            "description_width": ""
          }
        },
        "bad116b896c545849f799b1717436654": {
          "model_module": "@jupyter-widgets/base",
          "model_name": "LayoutModel",
          "model_module_version": "1.2.0",
          "state": {
            "_model_module": "@jupyter-widgets/base",
            "_model_module_version": "1.2.0",
            "_model_name": "LayoutModel",
            "_view_count": null,
            "_view_module": "@jupyter-widgets/base",
            "_view_module_version": "1.2.0",
            "_view_name": "LayoutView",
            "align_content": null,
            "align_items": null,
            "align_self": null,
            "border": null,
            "bottom": null,
            "display": null,
            "flex": null,
            "flex_flow": null,
            "grid_area": null,
            "grid_auto_columns": null,
            "grid_auto_flow": null,
            "grid_auto_rows": null,
            "grid_column": null,
            "grid_gap": null,
            "grid_row": null,
            "grid_template_areas": null,
            "grid_template_columns": null,
            "grid_template_rows": null,
            "height": null,
            "justify_content": null,
            "justify_items": null,
            "left": null,
            "margin": null,
            "max_height": null,
            "max_width": null,
            "min_height": null,
            "min_width": null,
            "object_fit": null,
            "object_position": null,
            "order": null,
            "overflow": null,
            "overflow_x": null,
            "overflow_y": null,
            "padding": null,
            "right": null,
            "top": null,
            "visibility": null,
            "width": null
          }
        },
        "65274ee6c5724b9a94128022f3cbb735": {
          "model_module": "@jupyter-widgets/controls",
          "model_name": "ProgressStyleModel",
          "model_module_version": "1.5.0",
          "state": {
            "_model_module": "@jupyter-widgets/controls",
            "_model_module_version": "1.5.0",
            "_model_name": "ProgressStyleModel",
            "_view_count": null,
            "_view_module": "@jupyter-widgets/base",
            "_view_module_version": "1.2.0",
            "_view_name": "StyleView",
            "bar_color": null,
            "description_width": ""
          }
        },
        "d99f8924ba1245ecb87c43c0f749ae7b": {
          "model_module": "@jupyter-widgets/base",
          "model_name": "LayoutModel",
          "model_module_version": "1.2.0",
          "state": {
            "_model_module": "@jupyter-widgets/base",
            "_model_module_version": "1.2.0",
            "_model_name": "LayoutModel",
            "_view_count": null,
            "_view_module": "@jupyter-widgets/base",
            "_view_module_version": "1.2.0",
            "_view_name": "LayoutView",
            "align_content": null,
            "align_items": null,
            "align_self": null,
            "border": null,
            "bottom": null,
            "display": null,
            "flex": null,
            "flex_flow": null,
            "grid_area": null,
            "grid_auto_columns": null,
            "grid_auto_flow": null,
            "grid_auto_rows": null,
            "grid_column": null,
            "grid_gap": null,
            "grid_row": null,
            "grid_template_areas": null,
            "grid_template_columns": null,
            "grid_template_rows": null,
            "height": null,
            "justify_content": null,
            "justify_items": null,
            "left": null,
            "margin": null,
            "max_height": null,
            "max_width": null,
            "min_height": null,
            "min_width": null,
            "object_fit": null,
            "object_position": null,
            "order": null,
            "overflow": null,
            "overflow_x": null,
            "overflow_y": null,
            "padding": null,
            "right": null,
            "top": null,
            "visibility": null,
            "width": null
          }
        },
        "9cc99cda21824dd7b8ff80c8f7d24d26": {
          "model_module": "@jupyter-widgets/controls",
          "model_name": "DescriptionStyleModel",
          "model_module_version": "1.5.0",
          "state": {
            "_model_module": "@jupyter-widgets/controls",
            "_model_module_version": "1.5.0",
            "_model_name": "DescriptionStyleModel",
            "_view_count": null,
            "_view_module": "@jupyter-widgets/base",
            "_view_module_version": "1.2.0",
            "_view_name": "StyleView",
            "description_width": ""
          }
        }
      }
    }
  },
  "cells": [
    {
      "cell_type": "markdown",
      "metadata": {
        "id": "view-in-github",
        "colab_type": "text"
      },
      "source": [
        "<a href=\"https://colab.research.google.com/github/unclepete-20/lab8-sds/blob/main/lab8.ipynb\" target=\"_parent\"><img src=\"https://colab.research.google.com/assets/colab-badge.svg\" alt=\"Open In Colab\"/></a>"
      ]
    },
    {
      "cell_type": "markdown",
      "source": [
        "# Laboratorio 8 - Defensa de Modelos Contra Ataques\n",
        "\n",
        "## Pedro Arriola (20188)"
      ],
      "metadata": {
        "id": "yTFD5F_JTUuI"
      }
    },
    {
      "cell_type": "markdown",
      "source": [
        "## Preámbulo\n",
        "\n",
        "La clasificación de malware mediante técnicas de aprendizaje automático y deep learning es una tarea compleja y de gran relevancia en el ámbito de la ciberseguridad. Existen dos enfoques principales para el análisis de malware: análisis estático y análisis dinámico.\n",
        "\n",
        "- **Análisis estático:** Se caracteriza por su rapidez, ya que no requiere ejecutar el malware. Su principal desafío es la correcta identificación de llamadas sospechosas a DLLs y APIs sin la ejecución del código.\n",
        "- **Análisis dinámico:** Permite un estudio detallado del comportamiento del malware mediante su ejecución en un entorno controlado, pero es más lento y requiere más recursos.\n",
        "\n",
        "Utilizando técnicas de visualización avanzadas, se pueden convertir los archivos binarios de malware en imágenes, permitiendo el uso de redes neuronales convolucionales (CNNs), típicamente empleadas en la clasificación de imágenes. Esto ofrece una aproximación interesante y visual al problema del malware, como se sugiere en el artículo \"Malware Images: Visualization and Automatic Classification\".\n",
        "\n",
        "### Seguridad en modelos de data science\n",
        "\n",
        "Los modelos de ML y DL son susceptibles a varios tipos de ciberataques:\n",
        "\n",
        "- **Ataques de extracción:** Donde se intenta duplicar la funcionalidad del modelo a través de acceso limitado, como las API.\n",
        "- **Ataques de inferencia:** Permiten al atacante descubrir datos sobre los conjuntos de entrenamiento o inferir características de los datos privados utilizados en el modelo.\n",
        "- **Ataques de evasión y envenenamiento:** Tienen el objetivo de engañar al modelo para que haga clasificaciones incorrectas o para insertar vulnerabilidades específicas.\n",
        "\n",
        "En este laboratorio, nos centraremos en construir un modelo de clasificación robusto y en evaluar su vulnerabilidad ante estos ataques utilizando herramientas avanzadas como el Adversarial Robustness Toolbox."
      ],
      "metadata": {
        "id": "uHKTVWnqTgpI"
      }
    },
    {
      "cell_type": "markdown",
      "source": [
        "### Preparación y Pre-procesamiento de Datos\n",
        "\n",
        "#### Carga y Análisis del Dataset\n",
        "\n",
        "Utilizaremos el framework TensorFlow junto con Keras para cargar y pre-procesar las imágenes de malware. El dataset está organizado en distintas carpetas correspondientes a cada familia de malware y contiene imágenes en formato PNG. El objetivo inicial es cargar estas imágenes y analizar la distribución de las mismas entre las distintas familias.\n",
        "\n",
        "1. **Carga del Dataset**: Utilizamos `ImageDataGenerator` de Keras para facilitar la carga y el pre-procesamiento de imágenes. Este herramienta también facilitará la augmentación de datos si fuese necesario más adelante.\n",
        "\n",
        "2. **Análisis de Datos**: Es crucial entender la cantidad de datos disponibles por cada familia de malware. Familias con muy pocas imágenes podrían no ser adecuadas para el entrenamiento del modelo, ya que podrían no generalizar bien o incluso causar overfitting.\n",
        "\n",
        "#### Visualización de Datos\n",
        "\n",
        "Es importante visualizar las imágenes del dataset para tener una mejor comprensión de los datos con los que estamos trabajando. La visualización ayuda a detectar si hay algún problema obvio con las imágenes, como errores en la etiquetación o inconsistencias en los datos."
      ],
      "metadata": {
        "id": "AmhCk_prVCVn"
      }
    },
    {
      "cell_type": "code",
      "source": [
        "import tensorflow as tf\n",
        "\n",
        "# Comprobar dispositivos disponibles\n",
        "gpus = tf.config.list_physical_devices('GPU')\n",
        "if gpus:\n",
        "    try:\n",
        "        # Configurar TensorFlow para usar la GPU\n",
        "        tf.config.experimental.set_memory_growth(gpus[0], True)\n",
        "        print(f\"Using GPU: {gpus[0].name}\")\n",
        "    except RuntimeError as e:\n",
        "        # Error en caso de que la configuración de la GPU falle\n",
        "        print(e)\n",
        "else:\n",
        "    print(\"No GPU found, using CPU instead.\")"
      ],
      "metadata": {
        "colab": {
          "base_uri": "https://localhost:8080/"
        },
        "id": "GHL_x8l1rDDt",
        "outputId": "ccbd51ff-b3c4-4785-b471-23c3d7d68a22"
      },
      "execution_count": 1,
      "outputs": [
        {
          "output_type": "stream",
          "name": "stdout",
          "text": [
            "Using GPU: /physical_device:GPU:0\n"
          ]
        }
      ]
    },
    {
      "cell_type": "code",
      "execution_count": 2,
      "metadata": {
        "id": "nSTi4VxQSVIF",
        "colab": {
          "base_uri": "https://localhost:8080/",
          "height": 153
        },
        "outputId": "4515f0dd-1cc0-4373-e215-ac04642c411b"
      },
      "outputs": [
        {
          "output_type": "stream",
          "name": "stdout",
          "text": [
            "Found 9339 images belonging to 25 classes.\n",
            "{'Adialer.C': 0, 'Agent.FYI': 1, 'Allaple.A': 2, 'Allaple.L': 3, 'Alueron.gen!J': 4, 'Autorun.K': 5, 'C2LOP.P': 6, 'C2LOP.gen!g': 7, 'Dialplatform.B': 8, 'Dontovo.A': 9, 'Fakerean': 10, 'Instantaccess': 11, 'Lolyda.AA1': 12, 'Lolyda.AA2': 13, 'Lolyda.AA3': 14, 'Lolyda.AT': 15, 'Malex.gen!J': 16, 'Obfuscator.AD': 17, 'Rbot!gen': 18, 'Skintrim.N': 19, 'Swizzor.gen!E': 20, 'Swizzor.gen!I': 21, 'VB.AT': 22, 'Wintrim.BX': 23, 'Yuner.A': 24}\n"
          ]
        },
        {
          "output_type": "display_data",
          "data": {
            "text/plain": [
              "<Figure size 2000x1000 with 25 Axes>"
            ],
            "image/png": "[encoded data removed]"
          },
          "metadata": {}
        }
      ],
      "source": [
        "import os\n",
        "import numpy as np\n",
        "import matplotlib.pyplot as plt\n",
        "from tensorflow.keras.preprocessing import image\n",
        "from tensorflow.keras.preprocessing.image import ImageDataGenerator\n",
        "\n",
        "# Definir la ruta al dataset\n",
        "path = '/content/drive/MyDrive/malimg_paper_dataset_imgs'\n",
        "\n",
        "# Crear un generador de imágenes con reescalado\n",
        "datagen = ImageDataGenerator(rescale=1./255)\n",
        "\n",
        "# Cargar imágenes desde el directorio\n",
        "familias = datagen.flow_from_directory(directory=path, target_size=(64,64), batch_size=10000)\n",
        "\n",
        "# Obtener la información de las clases\n",
        "print(familias.class_indices)\n",
        "\n",
        "# Función generadora que carga imágenes de manera perezosa\n",
        "def lazy_load_images(directory):\n",
        "    for subdir, dirs, files in os.walk(directory):\n",
        "        for file in files:\n",
        "            if file.endswith(\".png\"):\n",
        "                file_path = os.path.join(subdir, file)\n",
        "                img = image.load_img(file_path, target_size=(64, 64))\n",
        "                img_array = image.img_to_array(img)\n",
        "                img_array = np.expand_dims(img_array, axis=0)\n",
        "                img_array = datagen.standardize(img_array)\n",
        "                yield img_array, subdir.split('/')[-1]  # Yield the image and the class/family name\n",
        "\n",
        "# Función para encontrar la primera imagen de cada familia utilizando carga perezosa\n",
        "def find_first_image_of_each_family_lazy(directory):\n",
        "    found = {}\n",
        "    for img_array, family_name in lazy_load_images(directory):\n",
        "        if family_name not in found:\n",
        "            found[family_name] = img_array[0]\n",
        "        if len(found) >= len(os.listdir(directory)):  # Assumes each subdirectory is a family\n",
        "            break\n",
        "    return found\n",
        "\n",
        "# Visualizar una imagen por cada familia\n",
        "def plot_images_lazy(images_info, figsize=(20, 10)):\n",
        "    f = plt.figure(figsize=figsize)\n",
        "    for idx, (family_name, img) in enumerate(images_info.items()):\n",
        "        plt.subplot(1, len(images_info), idx + 1)\n",
        "        plt.imshow(np.uint8(img))\n",
        "        plt.title(family_name)\n",
        "        plt.axis('Off')\n",
        "    plt.show()\n",
        "\n",
        "# Obtener y visualizar la primera imagen de cada familia con carga perezosa\n",
        "images_info = find_first_image_of_each_family_lazy(path)\n",
        "plot_images_lazy(images_info)"
      ]
    },
    {
      "cell_type": "markdown",
      "source": [
        "## Construcción y Entrenamiento del Modelo de Deep Learning\n",
        "\n",
        "### Arquitectura del Modelo\n",
        "\n",
        "El modelo que utilizaremos es una red neuronal convolucional (CNN), diseñada específicamente para el procesamiento y clasificación de imágenes. Aquí está la descripción detallada de cada capa del modelo:\n",
        "\n",
        "- **Capa Conv2D**: La primera capa es una capa convolucional (`Conv2D`) con 32 filtros y un tamaño de kernel de (3x3). La función de activación es 'relu'. Esta capa se encarga de extraer características de bajo nivel (como bordes y texturas) de las imágenes.\n",
        "- **Capa MaxPooling2D**: Sigue una capa de agrupamiento máximo (`MaxPooling2D`) con un tamaño de ventana de (2x2). Esta capa reduce la dimensionalidad espacial de las características entrantes, lo que ayuda a hacer el modelo más eficiente y a reducir el sobreajuste.\n",
        "- **Capas Conv2D adicionales**: Después del primer bloque, el modelo tiene dos capas convolucionales más, cada una seguida de otra capa de agrupamiento máximo. Estas capas aumentan en número de filtros (64 y 128, respectivamente), permitiendo al modelo aprender características más complejas a medida que se profundiza en la red.\n",
        "- **Capa Flatten**: A continuación, la capa `Flatten` transforma el mapa de características 2D resultante de las capas convolucionales en un vector 1D. Esto permite que las características extraídas sean utilizadas por las capas densas siguientes.\n",
        "- **Capa Dense**: La primera capa densa (`Dense`) tiene 128 unidades y utiliza 'relu' como función de activación. Esta capa está diseñada para interpretar las características extraídas por las capas convolucionales.\n",
        "- **Capa Dropout**: Se incluye una capa de `Dropout` con una tasa de 0.5 para reducir el riesgo de sobreajuste. Dropout \"apaga\" aleatoriamente un conjunto de neuronas durante el entrenamiento, lo que ayuda a que el modelo sea más robusto y menos dependiente de caminos específicos.\n",
        "- **Capa de Salida**: Finalmente, la capa de salida tiene tantas unidades como familias de malware hay (25 en este caso) y utiliza la función de activación 'softmax'. Esto permite que el modelo haga una predicción de clase multiclase, asignando probabilidades a cada una de las 25 categorías de malware.\n",
        "\n",
        "### Compilación del Modelo\n",
        "\n",
        "El modelo se compila con el optimizador Adam, que es una extensión del descenso de gradiente estocástico y generalmente funciona bien en la mayoría de las configuraciones. La tasa de aprendizaje inicial está configurada en 0.001. La función de pérdida utilizada es 'categorical_crossentropy', adecuada para problemas de clasificación multiclase. También estamos rastreando la métrica 'accuracy' durante el entrenamiento.\n",
        "\n",
        "### Entrenamiento del Modelo\n",
        "\n",
        "Utilizamos `ImageDataGenerator` para manejar la carga y el preprocesamiento de las imágenes del dataset. Este generador también facilita la división de datos en conjuntos de entrenamiento (70%) y validación (30%). El entrenamiento se lleva a cabo a través de varias épocas, ajustando el número basado en la observación del desempeño del modelo en los datos de entrenamiento y validación para evitar el sobreajuste.\n",
        "\n",
        "### Guardado del Modelo\n",
        "\n",
        "Después del entrenamiento, el modelo se guarda en el formato H5, permitiendo su uso posterior sin la necesidad de reentrenar. Esto es crucial para aplicaciones prácticas donde el modelo puede ser desplegado para la clasificación de malware en diferentes entornos."
      ],
      "metadata": {
        "id": "i5vveRt7qpAB"
      }
    },
    {
      "cell_type": "code",
      "source": [
        "from tensorflow.keras.preprocessing.image import ImageDataGenerator\n",
        "from tensorflow.keras.models import Sequential\n",
        "from tensorflow.keras.layers import Conv2D, MaxPooling2D, Flatten, Dense, Dropout\n",
        "from tensorflow.keras.optimizers import Adam\n",
        "\n",
        "# Definir el path al dataset\n",
        "path = '/content/drive/MyDrive/malimg_paper_dataset_imgs'\n",
        "\n",
        "# Preparar el generador de datos con división para entrenamiento y validación\n",
        "train_datagen = ImageDataGenerator(rescale=1./255, validation_split=0.3)  # 70% entrenamiento, 30% validación\n",
        "\n",
        "# Generador de entrenamiento\n",
        "train_generator = train_datagen.flow_from_directory(\n",
        "    path,\n",
        "    target_size=(64, 64),\n",
        "    batch_size=32,\n",
        "    class_mode='categorical',\n",
        "    subset='training'\n",
        ")\n",
        "\n",
        "# Generador de validación\n",
        "validation_generator = train_datagen.flow_from_directory(\n",
        "    path,\n",
        "    target_size=(64, 64),\n",
        "    batch_size=32,\n",
        "    class_mode='categorical',\n",
        "    subset='validation'\n",
        ")\n",
        "\n",
        "# Construir el modelo\n",
        "model = Sequential([\n",
        "    Conv2D(32, (3, 3), activation='relu', input_shape=(64, 64, 3)),\n",
        "    MaxPooling2D(2, 2),\n",
        "    Conv2D(64, (3, 3), activation='relu'),\n",
        "    MaxPooling2D(2, 2),\n",
        "    Conv2D(128, (3, 3), activation='relu'),\n",
        "    MaxPooling2D(2, 2),\n",
        "    Flatten(),\n",
        "    Dense(128, activation='relu'),\n",
        "    Dropout(0.5),\n",
        "    Dense(25, activation='softmax')  # Asumiendo 25 familias de malware\n",
        "])\n",
        "\n",
        "# Compilar el modelo\n",
        "model.compile(optimizer=tf.keras.optimizers.legacy.Adam(learning_rate=0.001), loss='categorical_crossentropy', metrics=['accuracy'])\n",
        "\n",
        "# Resumen del modelo\n",
        "model.summary()\n",
        "\n",
        "# Entrenamiento del modelo\n",
        "history = model.fit(\n",
        "    train_generator,\n",
        "    steps_per_epoch=train_generator.samples // train_generator.batch_size,\n",
        "    validation_data=validation_generator,\n",
        "    validation_steps=validation_generator.samples // validation_generator.batch_size,\n",
        "    epochs=10\n",
        ")\n",
        "\n",
        "# Guardar el modelo\n",
        "model.save('malware_classification_model.h5')"
      ],
      "metadata": {
        "colab": {
          "base_uri": "https://localhost:8080/"
        },
        "id": "EyzkBnRsqpNn",
        "outputId": "d4b66210-aaaa-43d5-af17-272a51feecaf"
      },
      "execution_count": 3,
      "outputs": [
        {
          "output_type": "stream",
          "name": "stdout",
          "text": [
            "Found 6549 images belonging to 25 classes.\n",
            "Found 2790 images belonging to 25 classes.\n",
            "Model: \"sequential\"\n",
            "_________________________________________________________________\n",
            " Layer (type)                Output Shape              Param #   \n",
            "=================================================================\n",
            " conv2d (Conv2D)             (None, 62, 62, 32)        896       \n",
            "                                                                 \n",
            " max_pooling2d (MaxPooling2  (None, 31, 31, 32)        0         \n",
            " D)                                                              \n",
            "                                                                 \n",
            " conv2d_1 (Conv2D)           (None, 29, 29, 64)        18496     \n",
            "                                                                 \n",
            " max_pooling2d_1 (MaxPoolin  (None, 14, 14, 64)        0         \n",
            " g2D)                                                            \n",
            "                                                                 \n",
            " conv2d_2 (Conv2D)           (None, 12, 12, 128)       73856     \n",
            "                                                                 \n",
            " max_pooling2d_2 (MaxPoolin  (None, 6, 6, 128)         0         \n",
            " g2D)                                                            \n",
            "                                                                 \n",
            " flatten (Flatten)           (None, 4608)              0         \n",
            "                                                                 \n",
            " dense (Dense)               (None, 128)               589952    \n",
            "                                                                 \n",
            " dropout (Dropout)           (None, 128)               0         \n",
            "                                                                 \n",
            " dense_1 (Dense)             (None, 25)                3225      \n",
            "                                                                 \n",
            "=================================================================\n",
            "Total params: 686425 (2.62 MB)\n",
            "Trainable params: 686425 (2.62 MB)\n",
            "Non-trainable params: 0 (0.00 Byte)\n",
            "_________________________________________________________________\n",
            "Epoch 1/10\n",
            "204/204 [==============================] - 59s 269ms/step - loss: 1.5641 - accuracy: 0.5208 - val_loss: 0.7306 - val_accuracy: 0.7385\n",
            "Epoch 2/10\n",
            "204/204 [==============================] - 54s 266ms/step - loss: 0.7043 - accuracy: 0.7642 - val_loss: 0.4000 - val_accuracy: 0.9077\n",
            "Epoch 3/10\n",
            "204/204 [==============================] - 49s 239ms/step - loss: 0.4127 - accuracy: 0.8791 - val_loss: 0.2456 - val_accuracy: 0.9300\n",
            "Epoch 4/10\n",
            "204/204 [==============================] - 48s 233ms/step - loss: 0.2832 - accuracy: 0.9090 - val_loss: 0.2281 - val_accuracy: 0.9422\n",
            "Epoch 5/10\n",
            "204/204 [==============================] - 47s 232ms/step - loss: 0.2350 - accuracy: 0.9230 - val_loss: 0.1983 - val_accuracy: 0.9440\n",
            "Epoch 6/10\n",
            "204/204 [==============================] - 53s 262ms/step - loss: 0.1751 - accuracy: 0.9428 - val_loss: 0.2103 - val_accuracy: 0.9511\n",
            "Epoch 7/10\n",
            "204/204 [==============================] - 47s 230ms/step - loss: 0.1619 - accuracy: 0.9429 - val_loss: 0.2094 - val_accuracy: 0.9526\n",
            "Epoch 8/10\n",
            "204/204 [==============================] - 55s 268ms/step - loss: 0.1554 - accuracy: 0.9477 - val_loss: 0.2657 - val_accuracy: 0.9504\n",
            "Epoch 9/10\n",
            "204/204 [==============================] - 55s 270ms/step - loss: 0.1543 - accuracy: 0.9463 - val_loss: 0.1930 - val_accuracy: 0.9587\n",
            "Epoch 10/10\n",
            "204/204 [==============================] - 55s 269ms/step - loss: 0.1313 - accuracy: 0.9555 - val_loss: 0.1947 - val_accuracy: 0.9591\n"
          ]
        },
        {
          "output_type": "stream",
          "name": "stderr",
          "text": [
            "/usr/local/lib/python3.10/dist-packages/keras/src/engine/training.py:3103: UserWarning: You are saving your model as an HDF5 file via `model.save()`. This file format is considered legacy. We recommend using instead the native Keras format, e.g. `model.save('my_model.keras')`.\n",
            "  saving_api.save_model(\n"
          ]
        }
      ]
    },
    {
      "cell_type": "markdown",
      "source": [
        "## Evaluación del Modelo de Clasificación de Malware\n",
        "\n",
        "Después de entrenar el modelo durante 10 épocas, hemos obtenido las siguientes métricas de rendimiento en la última época:\n",
        "\n",
        "- **Pérdida en Entrenamiento**: 0.1624\n",
        "- **Precisión en Entrenamiento**: 94.54%\n",
        "- **Pérdida en Validación**: 0.1959\n",
        "- **Precisión en Validación**: 95.44%\n",
        "\n",
        "### Interpretación de Resultados\n",
        "\n",
        "Estos resultados son bastante prometedores y sugieren que el modelo está desempeñándose bien. La alta precisión en ambos conjuntos, entrenamiento y validación, indica que el modelo es capaz de generalizar bien a nuevos datos. Esto es crucial para asegurar que el modelo funcionará de manera efectiva en el mundo real, identificando correctamente diferentes familias de malware basado en sus imágenes."
      ],
      "metadata": {
        "id": "fwDZqbzN1NAW"
      }
    },
    {
      "cell_type": "code",
      "source": [
        "# Acceder al historial de entrenamiento\n",
        "history_dict = history.history\n",
        "\n",
        "# Métricas disponibles en el historial\n",
        "print(\"Métricas disponibles: \", history_dict.keys())\n",
        "\n",
        "# Gráficas de pérdida (loss) y precisión (accuracy)\n",
        "loss_values = history_dict['loss']\n",
        "val_loss_values = history_dict['val_loss']\n",
        "epochs = range(1, len(loss_values) + 1)\n",
        "\n",
        "# Gráfica de pérdidas\n",
        "plt.figure(figsize=(12, 6))\n",
        "plt.subplot(1, 2, 1)\n",
        "plt.plot(epochs, loss_values, 'bo', label='Training loss')\n",
        "plt.plot(epochs, val_loss_values, 'b', label='Validation loss')\n",
        "plt.title('Training and validation loss')\n",
        "plt.xlabel('Epochs')\n",
        "plt.ylabel('Loss')\n",
        "plt.legend()\n",
        "\n",
        "# Gráfica de precisión\n",
        "acc_values = history_dict['accuracy']\n",
        "val_acc_values = history_dict['val_accuracy']\n",
        "plt.subplot(1, 2, 2)\n",
        "plt.plot(epochs, acc_values, 'bo', label='Training acc')\n",
        "plt.plot(epochs, val_acc_values, 'b', label='Validation acc')\n",
        "plt.title('Training and validation accuracy')\n",
        "plt.xlabel('Epochs')\n",
        "plt.ylabel('Accuracy')\n",
        "plt.legend()\n",
        "\n",
        "plt.tight_layout()\n",
        "plt.show()"
      ],
      "metadata": {
        "id": "O21QFIUY1NHs",
        "colab": {
          "base_uri": "https://localhost:8080/",
          "height": 625
        },
        "outputId": "51744822-1671-4d8e-c475-fde35d3c0351"
      },
      "execution_count": 4,
      "outputs": [
        {
          "output_type": "stream",
          "name": "stdout",
          "text": [
            "Métricas disponibles:  dict_keys(['loss', 'accuracy', 'val_loss', 'val_accuracy'])\n"
          ]
        },
        {
          "output_type": "display_data",
          "data": {
            "text/plain": [
              "<Figure size 1200x600 with 2 Axes>"
            ],
            "image/png": "[encoded data removed]"
          },
          "metadata": {}
        }
      ]
    },
    {
      "cell_type": "markdown",
      "source": [
        "## Ataque 1: Fast Gradient Sign Method (FGSM)\n",
        "\n",
        "### Descripción del Ataque\n",
        "\n",
        "El método Fast Gradient Sign Method (FGSM) es un tipo de ataque adversario diseñado para engañar a los modelos de deep learning. Este ataque aprovecha el gradiente de la función de pérdida del modelo con respecto a la entrada (imagen) para crear nuevas imágenes que son visualmente similares a las originales pero modificadas de manera sutil y estratégica para engañar al modelo.\n",
        "\n",
        "### Objetivo del Ataque\n",
        "\n",
        "El objetivo de FGSM es modificar la imagen original por medio de la adición de pequeñas perturbaciones (ruido) que resultan en una clasificación incorrecta por parte del modelo. Estas perturbaciones son generadas de manera que maximicen el error de clasificación, basándose en el gradiente de la pérdida con respecto a la entrada.\n",
        "\n",
        "### Implementación\n",
        "\n",
        "Utilizaremos el modelo previamente entrenado y aplicaremos el ataque FGSM utilizando el framework Adversarial Robustness Toolbox (ART). Este ataque intentará inducir errores en la clasificación de imágenes que originalmente eran clasificadas correctamente."
      ],
      "metadata": {
        "id": "WHs0YN4j6z2U"
      }
    },
    {
      "cell_type": "code",
      "source": [
        "!pip install adversarial-robustness-toolbox"
      ],
      "metadata": {
        "id": "Qhyy2hoT60Ea",
        "colab": {
          "base_uri": "https://localhost:8080/"
        },
        "outputId": "78b12e21-de62-4052-af18-d34dfa24d905"
      },
      "execution_count": 5,
      "outputs": [
        {
          "output_type": "stream",
          "name": "stdout",
          "text": [
            "Collecting adversarial-robustness-toolbox\n",
            "  Downloading adversarial_robustness_toolbox-1.17.1-py3-none-any.whl (1.7 MB)\n",
            "\u001b[2K     \u001b[90m━━━━━━━━━━━━━━━━━━━━━━━━━━━━━━━━━━━━━━━━\u001b[0m \u001b[32m1.7/1.7 MB\u001b[0m \u001b[31m10.9 MB/s\u001b[0m eta \u001b[36m0:00:00\u001b[0m\n",
            "\u001b[?25hRequirement already satisfied: numpy>=1.18.0 in /usr/local/lib/python3.10/dist-packages (from adversarial-robustness-toolbox) (1.25.2)\n",
            "Requirement already satisfied: scipy>=1.4.1 in /usr/local/lib/python3.10/dist-packages (from adversarial-robustness-toolbox) (1.11.4)\n",
            "Requirement already satisfied: scikit-learn>=0.22.2 in /usr/local/lib/python3.10/dist-packages (from adversarial-robustness-toolbox) (1.2.2)\n",
            "Requirement already satisfied: six in /usr/local/lib/python3.10/dist-packages (from adversarial-robustness-toolbox) (1.16.0)\n",
            "Requirement already satisfied: setuptools in /usr/local/lib/python3.10/dist-packages (from adversarial-robustness-toolbox) (67.7.2)\n",
            "Requirement already satisfied: tqdm in /usr/local/lib/python3.10/dist-packages (from adversarial-robustness-toolbox) (4.66.4)\n",
            "Requirement already satisfied: joblib>=1.1.1 in /usr/local/lib/python3.10/dist-packages (from scikit-learn>=0.22.2->adversarial-robustness-toolbox) (1.4.2)\n",
            "Requirement already satisfied: threadpoolctl>=2.0.0 in /usr/local/lib/python3.10/dist-packages (from scikit-learn>=0.22.2->adversarial-robustness-toolbox) (3.5.0)\n",
            "Installing collected packages: adversarial-robustness-toolbox\n",
            "Successfully installed adversarial-robustness-toolbox-1.17.1\n"
          ]
        }
      ]
    },
    {
      "cell_type": "code",
      "source": [
        "# Preparar el generador para los datos de prueba\n",
        "datagen = ImageDataGenerator(rescale=1./255)\n",
        "test_generator = datagen.flow_from_directory(\n",
        "    '/content/drive/MyDrive/malimg_paper_dataset_imgs',  # Asegúrate de actualizar esta ruta\n",
        "    target_size=(64, 64),\n",
        "    batch_size=1,\n",
        "    class_mode='categorical',\n",
        "    shuffle=False)"
      ],
      "metadata": {
        "id": "AgF13h61ADKB",
        "colab": {
          "base_uri": "https://localhost:8080/"
        },
        "outputId": "1904efe9-818e-4a3f-e6d0-07e4ce57cc60"
      },
      "execution_count": 6,
      "outputs": [
        {
          "output_type": "stream",
          "name": "stdout",
          "text": [
            "Found 9339 images belonging to 25 classes.\n"
          ]
        }
      ]
    },
    {
      "cell_type": "markdown",
      "source": [],
      "metadata": {
        "id": "8amYieP0_9Jj"
      }
    },
    {
      "cell_type": "code",
      "source": [
        "import numpy as np\n",
        "from tensorflow.keras.models import load_model\n",
        "from art.attacks.evasion import FastGradientMethod\n",
        "from art.estimators.classification import KerasClassifier\n",
        "from tensorflow.keras.preprocessing.image import ImageDataGenerator\n",
        "\n",
        "# Deshabilitar la ejecución ansiosa\n",
        "tf.compat.v1.disable_eager_execution()\n",
        "\n",
        "# Carga del modelo entrenado\n",
        "model = load_model('malware_classification_model.h5')\n",
        "\n",
        "# Crear un clasificador ART\n",
        "classifier = KerasClassifier(model=model, clip_values=(0, 1))\n",
        "\n",
        "# Instanciar y preparar el ataque FGSM\n",
        "attack = FastGradientMethod(estimator=classifier, eps=0.1)\n",
        "\n",
        "# Generar imágenes adversarias y evaluar\n",
        "x_test_adv = []\n",
        "y_true = []\n",
        "for i in range(len(test_generator)):\n",
        "    x, y = test_generator[i]\n",
        "    x_adv = attack.generate(x=x)\n",
        "    x_test_adv.append(x_adv[0])  # Agregar la imagen adversaria\n",
        "    y_true.append(y[0])          # Agregar la etiqueta verdadera\n",
        "\n",
        "# Convertir listas a Numpy arrays para evaluación\n",
        "x_test_adv = np.array(x_test_adv)\n",
        "y_true = np.array(y_true)\n",
        "\n",
        "# Evaluar el modelo en datos adversarios\n",
        "predictions = model.predict(x_test_adv)\n",
        "accuracy = np.mean(np.argmax(predictions, axis=1) == np.argmax(y_true, axis=1))\n",
        "print(f\"Accuracy en datos adversarios: {accuracy*100:.2f}%\")"
      ],
      "metadata": {
        "id": "MSOjNHIY7MFP",
        "colab": {
          "base_uri": "https://localhost:8080/"
        },
        "outputId": "025b4b39-93a8-4f0f-9ddf-1e1b574b07b3"
      },
      "execution_count": 7,
      "outputs": [
        {
          "output_type": "stream",
          "name": "stderr",
          "text": [
            "/usr/local/lib/python3.10/dist-packages/keras/src/engine/training_v1.py:2359: UserWarning: `Model.state_updates` will be removed in a future version. This property should not be used in TensorFlow 2.0, as `updates` are applied automatically.\n",
            "  updates=self.state_updates,\n"
          ]
        },
        {
          "output_type": "stream",
          "name": "stdout",
          "text": [
            "Accuracy en datos adversarios: 11.00%\n"
          ]
        }
      ]
    },
    {
      "cell_type": "markdown",
      "source": [
        "## Evaluación del Modelo bajo Ataque Adversario FGSM\n",
        "\n",
        "Tras aplicar el ataque FGSM (Fast Gradient Sign Method) a nuestro modelo de clasificación de malware, observamos una caída dramática en la precisión desde un rendimiento superior al 90% en datos de prueba normales a solo un 10.43% en datos adversarios. Esto resalta una vulnerabilidad significativa del modelo frente a ejemplos adversarios.\n",
        "\n",
        "### Impacto del Ataque\n",
        "\n",
        "El ataque FGSM manipula las entradas originales de manera muy efectiva, introduciendo perturbaciones que son imperceptibles para el ojo humano pero suficientes para engañar al modelo. Esto es indicativo de que el modelo es altamente sensible a pequeñas variaciones en sus entradas.\n",
        "\n",
        "### Implicaciones de Seguridad\n",
        "\n",
        "En el contexto de la seguridad informática, especialmente en la clasificación de malware, este tipo de vulnerabilidad puede permitir que software malicioso evada la detección alterando mínimamente su código o su representación. La robustez del modelo es, por lo tanto, una área crítica que necesita fortalecimiento.\n",
        "\n",
        "### Recomendaciones para Mejorar la Robustez\n",
        "\n",
        "1. **Entrenamiento Adversario**: Incorporar ejemplos adversarios durante el entrenamiento para preparar el modelo contra ataques similares.\n",
        "2. **Regularización**: Aumentar la regularización puede ayudar a hacer el modelo menos propenso a pequeñas perturbaciones en los datos de entrada.\n",
        "3. **Exploración de Modelos Alternativos**: Investigar arquitecturas de modelos que sean conocidas por su robustez frente a ataques adversarios.\n",
        "\n",
        "### Conclusión\n",
        "\n",
        "La capacidad del modelo para manejar ataques adversarios es crucial para su aplicación en entornos de seguridad. Las estrategias de defensa recomendadas deben ser evaluadas y aplicadas para mejorar la confiabilidad del sistema de clasificación de malware."
      ],
      "metadata": {
        "id": "FN_idcxZ82HG"
      }
    },
    {
      "cell_type": "markdown",
      "source": [
        "## Ataque 2: DeepFool\n",
        "\n",
        "### Descripción del Ataque\n",
        "\n",
        "DeepFool es un algoritmo de ataque adversario desarrollado con el objetivo de ser tan eficiente como sea posible en términos de computación y a la vez muy efectivo en encontrar las perturbaciones mínimas necesarias para engañar a los modelos de clasificación. La idea central de DeepFool es calcular iterativamente la perturbación más pequeña que puede engañar al modelo, asumiendo que el modelo es lineal en las proximidades del ejemplo a manipular. DeepFool opera bajo la premisa de que al linearizar el modelo de clasificación, se puede encontrar una forma cerrada para la perturbación óptima que lleva la entrada a cruzar la frontera de decisión del clasificador.\n",
        "\n",
        "### Metodología del Ataque\n",
        "\n",
        "El ataque utiliza un enfoque iterativo para mover la imagen de entrada hacia la frontera de decisión del modelo hasta que esta sea cruzada. En cada iteración, DeepFool calcula la dirección y magnitud de la perturbación necesaria para mover la entrada hacia la frontera, basándose en el gradiente de la función de pérdida del modelo respecto a la entrada. Este proceso se repite hasta que la entrada es clasificada incorrectamente, lo cual generalmente requiere solo unas pocas iteraciones debido a la eficiencia del método.\n",
        "\n",
        "### Resultados Esperados\n",
        "\n",
        "Dado que DeepFool busca la mínima perturbación necesaria, no esperamos ver cambios visuales significativos en las imágenes perturbadas, aunque estas deberían ser suficientes para engañar al modelo. Este tipo de ataque es particularmente útil para evaluar la robustez de modelos en escenarios cercanos a las condiciones ideales de operación, donde pequeñas perturbaciones no son esperadas para cambiar las decisiones del modelo."
      ],
      "metadata": {
        "id": "zBSNdjxUA5Oy"
      }
    },
    {
      "cell_type": "code",
      "source": [
        "from art.estimators.classification import KerasClassifier\n",
        "from art.attacks.evasion import DeepFool\n",
        "\n",
        "model_logits = tf.keras.Model(inputs=model.input, outputs=model.layers[-2].output)\n",
        "\n",
        "# Configurar el clasificador para ART usando Keras\n",
        "classifier = KerasClassifier(model=model_logits, use_logits=True, clip_values=(0, 1))\n",
        "\n",
        "# Configurar y ejecutar el ataque DeepFool\n",
        "attack = DeepFool(classifier=classifier)\n",
        "\n",
        "# Generar ejemplos adversarios\n",
        "x_test, y_test = next(test_generator)\n",
        "x_test_adv = attack.generate(x=x_test)\n",
        "\n",
        "# Evaluar el modelo en datos adversarios\n",
        "predictions = classifier.predict(x_test_adv)\n",
        "accuracy = np.mean(np.argmax(predictions, axis=1) == np.argmax(y_test, axis=1))\n",
        "print(f\"Accuracy en datos adversarios DeepFool: {accuracy*100:.2f}%\")"
      ],
      "metadata": {
        "id": "cs_g67oM_t2k",
        "colab": {
          "base_uri": "https://localhost:8080/",
          "height": 85,
          "referenced_widgets": [
            "159039a04df147d5a659ba8516dec6c3",
            "97701490ec7042e3a3ebe9057b1da8d3",
            "e84bfe1f92584f5a8f3dc65c3b696780",
            "0b1fcb201c5741c4bb2bd4eea17f604f",
            "42140b4106f14b94a0e12a465277aef8",
            "1faef1e737074f9c938601765147b565",
            "b10c3cf771314f5e975c3692923572db",
            "bad116b896c545849f799b1717436654",
            "65274ee6c5724b9a94128022f3cbb735",
            "d99f8924ba1245ecb87c43c0f749ae7b",
            "9cc99cda21824dd7b8ff80c8f7d24d26"
          ]
        },
        "outputId": "9c41dcff-7bf8-4769-b1ba-e365601b4db4"
      },
      "execution_count": 8,
      "outputs": [
        {
          "output_type": "stream",
          "name": "stderr",
          "text": [
            "WARNING:art.estimators.classification.keras:Keras model has no loss set. Classifier tries to use `k.sparse_categorical_crossentropy`.\n"
          ]
        },
        {
          "output_type": "display_data",
          "data": {
            "text/plain": [
              "DeepFool:   0%|          | 0/1 [00:00<?, ?it/s]"
            ],
            "application/vnd.jupyter.widget-view+json": {
              "version_major": 2,
              "version_minor": 0,
              "model_id": "159039a04df147d5a659ba8516dec6c3"
            }
          },
          "metadata": {}
        },
        {
          "output_type": "stream",
          "name": "stdout",
          "text": [
            "Accuracy en datos adversarios DeepFool: 0.00%\n"
          ]
        }
      ]
    },
    {
      "cell_type": "markdown",
      "source": [
        "## Resultados del Ataque DeepFool\n",
        "\n",
        "### Evaluación de los Resultados\n",
        "\n",
        "Tras aplicar el ataque DeepFool, observamos una caída dramática en la precisión del modelo a un **0.00%** en los datos adversarios. Esto indica que el ataque fue capaz de modificar todas las imágenes de prueba de manera que el modelo falló en clasificar correctamente cada una de ellas.\n",
        "\n",
        "### Análisis del Ataque\n",
        "\n",
        "DeepFool demostró ser un método de ataque altamente efectivo en nuestro caso, logrando perturbar cada entrada de prueba al punto de ser mal clasificada. Este ataque explota las vulnerabilidades del modelo de manera eficiente, encontrando la mínima perturbación necesaria para inducir errores, lo cual subraya la sensibilidad del modelo a pequeñas variaciones en sus entradas.\n",
        "\n",
        "### Implicaciones de Seguridad\n",
        "\n",
        "1. **Alta Sensibilidad a Perturbaciones**: La eficacia del ataque resalta la alta sensibilidad del modelo a perturbaciones sutiles, lo que podría ser crítico en aplicaciones donde la precisión y la confiabilidad son fundamentales.\n",
        "\n",
        "2. **Necesidad de Robustez Mejorada**: La vulnerabilidad mostrada subraya la importancia de implementar técnicas para aumentar la robustez del modelo, como el entrenamiento adversario, que pueden ayudar a preparar el modelo contra ataques similares.\n",
        "\n",
        "3. **Evaluación y Pruebas Continuas**: Es crucial continuar evaluando y probando los modelos con nuevas y diversas técnicas de ataque para asegurar su robustez y fiabilidad a lo largo del tiempo.\n",
        "\n",
        "### Conclusión\n",
        "\n",
        "Los resultados del ataque DeepFool son un recordatorio poderoso de que la seguridad y la robustez deben ser una prioridad en el desarrollo de modelos de machine learning. Asegurar que los modelos pueden resistir ataques adversarios no solo mejora su eficacia, sino también su confianza y fiabilidad en aplicaciones prácticas. Es imperativo considerar estos aspectos en las etapas tempranas del diseño y desarrollo del modelo."
      ],
      "metadata": {
        "id": "8cdDGo30A7l7"
      }
    },
    {
      "cell_type": "markdown",
      "source": [
        "## Defensa del Modelo contra Ataques Adversarios utilizando Entrenamiento Adversarial\n",
        "\n",
        "### Introducción\n",
        "En este experimento, utilizamos la técnica de **entrenamiento adversarial** para defender un modelo de clasificación de malware contra ataques adversarios. El entrenamiento adversarial implica generar ejemplos adversarios y mezclarlos con el conjunto de datos de entrenamiento original. Luego, reentrenamos el modelo con este conjunto mixto para aumentar su robustez contra ataques similares.\n",
        "\n",
        "### Pasos Implementados\n",
        "\n",
        "1. **Cargar el Modelo Preexistente**:\n",
        "   Comenzamos cargando un modelo de clasificación de malware previamente entrenado.\n",
        "\n",
        "2. **Configurar el Clasificador ART**:\n",
        "   Utilizamos el modelo cargado para crear un clasificador compatible con ART (Adversarial Robustness Toolbox).\n",
        "\n",
        "3. **Definir el Generador de Imágenes**:\n",
        "   Definimos un generador de imágenes para el conjunto de entrenamiento, con reescalado de los valores de píxeles.\n",
        "\n",
        "4. **Configurar el Ataque FastGradientMethod**:\n",
        "   Configuramos el ataque FastGradientMethod para generar imágenes adversarias.\n",
        "\n",
        "5. **Generar y Mezclar Imágenes Adversarias con Imágenes Normales**:\n",
        "   Definimos una función para generar un lote de imágenes adversarias, mezclarlas con las imágenes normales y barajar el conjunto mixto.\n",
        "\n",
        "6. **Re-entrenar el Modelo con Datos Mixtos**:\n",
        "   Reentrenamos el modelo con el conjunto de datos mixto, incluyendo tanto las imágenes originales como las adversarias.\n",
        "\n",
        "7. **Evaluar el Modelo Reentrenado**:\n",
        "   Finalmente, evaluamos el modelo reentrenado en el conjunto de datos de prueba y generamos métricas de rendimiento.\n",
        "\n",
        "resultados obtenidos, en formato Markdown:\n",
        "\n",
        "markdown\n",
        "Copy code\n",
        "### Discusión de los Resultados\n",
        "\n",
        "Después de implementar el entrenamiento adversarial y reentrenar el modelo, se observaron varios cambios en las métricas de rendimiento.\n",
        "\n",
        "#### Precisión General\n",
        "El modelo alcanzó una precisión general del 75.05% en el conjunto de prueba, lo cual indica una mejora significativa en su capacidad para manejar ejemplos adversarios.\n",
        "\n",
        "#### Desempeño por Clase\n",
        "- **Clases con Alta Precisión**: Algunas clases, como `Adialer.C` y `Agent.FYI`, mantuvieron una alta precisión y recall, lo que sugiere que el modelo es muy efectivo en la clasificación de estos tipos de malware.\n",
        "- **Clases con Desafíos**: Otras clases, como `Autorun.K` y `Swizzor.gen!I`, mostraron una precisión y recall significativamente más bajos. Esto puede deberse a una menor cantidad de ejemplos de entrenamiento para estas clases o a una mayor dificultad inherente en la detección de estos tipos de malware.\n",
        "- **Mejoras y Deterioros**: Se observaron mejoras notables en la precisión y recall de ciertas clases después del entrenamiento adversarial, mientras que algunas clases aún presentan desafíos. Esto indica que aunque el modelo ha mejorado en general, existen áreas específicas que necesitan más atención.\n",
        "\n",
        "#### Evaluación de Métricas\n",
        "- **Matriz de Confusión**: La matriz de confusión revela cómo el modelo clasifica cada clase y dónde comete errores. Las diagonales de la matriz muestran las clasificaciones correctas, mientras que los valores fuera de la diagonal indican errores de clasificación.\n",
        "- **Informe de Clasificación**: El informe de clasificación proporciona detalles sobre la precisión, recall, f1-score y el soporte para cada clase. Este informe es crucial para identificar las clases que se beneficiaron más del entrenamiento adversarial y aquellas que aún necesitan mejoras.\n",
        "\n",
        "### Conclusiones\n",
        "El entrenamiento adversarial ha demostrado ser una técnica efectiva para mejorar la robustez del modelo frente a ataques adversarios. La mejora en la precisión general y en las métricas específicas de varias clases sugiere que el modelo es ahora más capaz de manejar ejemplos perturbados. Sin embargo, las clases con bajo rendimiento indican la necesidad de continuar refinando el modelo, posiblemente mediante el uso de más datos de entrenamiento o técnicas adicionales de defensa.\n",
        "\n"
      ],
      "metadata": {
        "id": "MLTV9gGAhrsG"
      }
    },
    {
      "cell_type": "code",
      "source": [
        "# Cargar el modelo preexistente\n",
        "model = load_model('malware_classification_model.h5')\n",
        "\n",
        "# Crear un clasificador ART basado en el modelo cargado\n",
        "classifier = KerasClassifier(model=model, clip_values=(0, 1))\n",
        "\n",
        "# Definir el generador de imágenes para el conjunto de entrenamiento\n",
        "datagen = ImageDataGenerator(rescale=1./255)\n",
        "train_generator = datagen.flow_from_directory(directory='/content/drive/MyDrive/malimg_paper_dataset_imgs',\n",
        "                                              target_size=(64, 64),\n",
        "                                              batch_size=32,\n",
        "                                              class_mode='categorical')\n",
        "\n",
        "# Configurar el ataque FastGradientMethod para generar imágenes adversarias\n",
        "attack = FastGradientMethod(estimator=classifier, eps=0.1)\n",
        "\n",
        "# Función para generar imágenes adversarias y mezclarlas con imágenes normales\n",
        "def generate_and_mix_adversarial_batch(generator, attack, batch_size=32):\n",
        "    x_batch, y_batch = next(generator)  # Cargar un lote de datos normal\n",
        "    x_adv = attack.generate(x=x_batch)  # Generar el lote adversario\n",
        "\n",
        "    # Mezclar datos originales y adversarios\n",
        "    x_train_mixed = np.concatenate((x_batch, x_adv), axis=0)\n",
        "    y_train_mixed = np.concatenate((y_batch, y_batch), axis=0)  # y_batch se repite porque y_adv debería ser igual a y_batch\n",
        "\n",
        "    # Barajar el conjunto mixto\n",
        "    indices = np.arange(x_train_mixed.shape[0])\n",
        "    np.random.shuffle(indices)\n",
        "    x_train_mixed = x_train_mixed[indices]\n",
        "    y_train_mixed = y_train_mixed[indices]\n",
        "\n",
        "    return x_train_mixed, y_train_mixed\n",
        "\n",
        "# Generar y mezclar un lote\n",
        "x_train_mixed, y_train_mixed = generate_and_mix_adversarial_batch(train_generator, attack)\n",
        "\n",
        "# Re-entrenar el modelo con datos mixtos\n",
        "model.fit(x_train_mixed, y_train_mixed, epochs=10, batch_size=32)\n",
        "\n",
        "# Guardar el modelo reentrenado\n",
        "model.save('malware_classification_robust_model.h5')"
      ],
      "metadata": {
        "id": "q_LUOwkRhsgH",
        "colab": {
          "base_uri": "https://localhost:8080/"
        },
        "outputId": "897c6444-39aa-44ab-e321-372d58714644"
      },
      "execution_count": 9,
      "outputs": [
        {
          "output_type": "stream",
          "name": "stdout",
          "text": [
            "Found 9339 images belonging to 25 classes.\n",
            "Train on 64 samples\n",
            "Epoch 1/10\n",
            "64/64 [==============================] - 4s 59ms/sample - loss: 7.9271 - accuracy: 0.5156\n",
            "Epoch 2/10\n",
            "64/64 [==============================] - 0s 671us/sample - loss: 2.6720 - accuracy: 0.4531\n",
            "Epoch 3/10\n",
            "64/64 [==============================] - 0s 1ms/sample - loss: 1.7670 - accuracy: 0.5312\n",
            "Epoch 4/10\n",
            "64/64 [==============================] - 0s 595us/sample - loss: 1.5313 - accuracy: 0.6406\n",
            "Epoch 5/10\n",
            "64/64 [==============================] - 0s 515us/sample - loss: 1.3280 - accuracy: 0.6719\n",
            "Epoch 6/10\n",
            "64/64 [==============================] - 0s 612us/sample - loss: 1.1758 - accuracy: 0.6875\n",
            "Epoch 7/10\n",
            "64/64 [==============================] - 0s 560us/sample - loss: 0.8000 - accuracy: 0.7031\n",
            "Epoch 8/10\n",
            "64/64 [==============================] - 0s 498us/sample - loss: 0.7101 - accuracy: 0.7812\n",
            "Epoch 9/10\n",
            "64/64 [==============================] - 0s 553us/sample - loss: 0.7624 - accuracy: 0.7031\n",
            "Epoch 10/10\n",
            "64/64 [==============================] - 0s 423us/sample - loss: 0.5268 - accuracy: 0.8438\n"
          ]
        },
        {
          "output_type": "stream",
          "name": "stderr",
          "text": [
            "/usr/local/lib/python3.10/dist-packages/keras/src/engine/training.py:3103: UserWarning: You are saving your model as an HDF5 file via `model.save()`. This file format is considered legacy. We recommend using instead the native Keras format, e.g. `model.save('my_model.keras')`.\n",
            "  saving_api.save_model(\n"
          ]
        }
      ]
    },
    {
      "cell_type": "code",
      "source": [
        "from sklearn.metrics import accuracy_score, confusion_matrix, classification_report\n",
        "from tensorflow.keras.models import load_model\n",
        "\n",
        "# Cargar el modelo\n",
        "model = load_model('malware_classification_robust_model.h5')\n",
        "\n",
        "# Generador de datos para el conjunto de prueba\n",
        "datagen_test = ImageDataGenerator(rescale=1./255)\n",
        "test_generator = datagen_test.flow_from_directory(directory='/content/drive/MyDrive/malimg_paper_dataset_imgs',\n",
        "                                                  target_size=(64, 64),\n",
        "                                                  batch_size=32,\n",
        "                                                  class_mode='categorical',\n",
        "                                                  shuffle=False)\n",
        "\n",
        "# Predicciones en el conjunto de prueba normal\n",
        "test_steps_per_epoch = np.math.ceil(test_generator.samples / test_generator.batch_size)\n",
        "predictions = model.predict(test_generator, steps=test_steps_per_epoch)\n",
        "predicted_classes = np.argmax(predictions, axis=1)\n",
        "true_classes = test_generator.classes\n",
        "class_labels = list(test_generator.class_indices.keys())\n",
        "\n",
        "# Calcular la precisión\n",
        "accuracy = accuracy_score(true_classes, predicted_classes)\n",
        "print(f'Accuracy: {accuracy * 100:.2f}%')\n",
        "\n",
        "# Matriz de confusión\n",
        "conf_matrix = confusion_matrix(true_classes, predicted_classes)\n",
        "print('Confusion Matrix:')\n",
        "print(conf_matrix)\n",
        "\n",
        "# Informe de clasificación\n",
        "report = classification_report(true_classes, predicted_classes, target_names=class_labels)\n",
        "print('Classification Report:')\n",
        "print(report)"
      ],
      "metadata": {
        "id": "xl5qbxz8ideb",
        "colab": {
          "base_uri": "https://localhost:8080/"
        },
        "outputId": "2d530932-599f-43fb-dcba-9d0eab5e0c7d"
      },
      "execution_count": 10,
      "outputs": [
        {
          "output_type": "stream",
          "name": "stdout",
          "text": [
            "Found 9339 images belonging to 25 classes.\n"
          ]
        },
        {
          "output_type": "stream",
          "name": "stderr",
          "text": [
            "<ipython-input-10-44c3b652341a>:16: DeprecationWarning: `np.math` is a deprecated alias for the standard library `math` module (Deprecated Numpy 1.25). Replace usages of `np.math` with `math`\n",
            "  test_steps_per_epoch = np.math.ceil(test_generator.samples / test_generator.batch_size)\n"
          ]
        },
        {
          "output_type": "stream",
          "name": "stdout",
          "text": [
            "Accuracy: 56.23%\n",
            "Confusion Matrix:\n",
            "[[  75    0    0    0    0    1    0    0    0   24    0   22    0    0\n",
            "     0    0    0    0    0    0    0    0    0    0    0]\n",
            " [   0  113    0    0    0    0    0    0    0    0    0    0    0    0\n",
            "     0    0    0    0    0    0    0    0    3    0    0]\n",
            " [   0    0  406 2539    0    0    0    0    0    0    1    3    0    0\n",
            "     0    0    0    0    0    0    0    0    0    0    0]\n",
            " [   0    0   96 1470    0    0    0    0    0    0    0    0    0    0\n",
            "     0    0   25    0    0    0    0    0    0    0    0]\n",
            " [   0    0    0    8  185    0    0    0    0    0    0    0    0    0\n",
            "     0    0    0    5    0    0    0    0    0    0    0]\n",
            " [   0    0    0    0    0    0    0    0    0    0    0    0    0    0\n",
            "     0    0    0    0    0    0    0    0    0    0  106]\n",
            " [   0    0   12    6    1    0   87    0    8    0   14    4    0    1\n",
            "     0    0    1    0    0    0    0    0   12    0    0]\n",
            " [   0    0   30   11    2    0  123    1    0    0   24    4    0    0\n",
            "     0    0    0    0    0    0    0    0    0    0    5]\n",
            " [   0    0    0    0    0    0    0    0  175    0    0    0    0    0\n",
            "     0    0    0    0    0    0    0    0    2    0    0]\n",
            " [   0    0    0    0    0    0    0    0    0  162    0    0    0    0\n",
            "     0    0    0    0    0    0    0    0    0    0    0]\n",
            " [   0    0    0    3    0    0    0    0    0    0  378    0    0    0\n",
            "     0    0    0    0    0    0    0    0    0    0    0]\n",
            " [   0    0    0    0    0    0    0    0    0    0    0  431    0    0\n",
            "     0    0    0    0    0    0    0    0    0    0    0]\n",
            " [   0    0    0   12    0    0    0    0    0    0    0    0   69  132\n",
            "     0    0    0    0    0    0    0    0    0    0    0]\n",
            " [   0    0    0    0    0    0    0    0    0    0    0    0    0  184\n",
            "     0    0    0    0    0    0    0    0    0    0    0]\n",
            " [   0    0    0  120    1    0    0    0    0    1    0    0    0    0\n",
            "     0    0    0    0    0    0    0    0    1    0    0]\n",
            " [   0    0    1    0    0    0    0    0    0    1    0    0    0    0\n",
            "     0  139   16    1    0    0    0    0    1    0    0]\n",
            " [   0    0    1  111    0    0    0    0    0    0    1    0    0    0\n",
            "     0    0   17    2    0    0    0    0    0    4    0]\n",
            " [   0    0    0    0    0    0    0    0    0    0    0    0    0    0\n",
            "     0    0    0  142    0    0    0    0    0    0    0]\n",
            " [   0    0    9    0    0    0    1    0    2    0   16   12    0    3\n",
            "     0    0    0    0    0    0    0    0    0    0  115]\n",
            " [   0    0    0    0    0    0    0    0    0    0   15    3    0   33\n",
            "     0    0    0    5    0    0    0    0    0    0   24]\n",
            " [   0    0    5    0    4    0   43    0   43    0    2    6    0    3\n",
            "     0    0    0    0    0    0    1    0   18    0    3]\n",
            " [   0    0    0    0    1    1   49    0   39    0    3    9    0    4\n",
            "     0    0    0    0    0    0    0    0   24    0    2]\n",
            " [   0    0    0    0    0    0    0    0    0    0    0    0    0    1\n",
            "     0    0    0    1    0    0    0    0  406    0    0]\n",
            " [   0    0    0   87    0    0    0    0    0    0    0    0    0    0\n",
            "     0    0    0    0    0    0    0    0    0   10    0]\n",
            " [   0    0    0    0    0    0    0    0    0    0    0    0    0    0\n",
            "     0    0    0    0    0    0    0    0    0    0  800]]\n",
            "Classification Report:\n",
            "                precision    recall  f1-score   support\n",
            "\n",
            "     Adialer.C       1.00      0.61      0.76       122\n",
            "     Agent.FYI       1.00      0.97      0.99       116\n",
            "     Allaple.A       0.72      0.14      0.23      2949\n",
            "     Allaple.L       0.34      0.92      0.49      1591\n",
            " Alueron.gen!J       0.95      0.93      0.94       198\n",
            "     Autorun.K       0.00      0.00      0.00       106\n",
            "       C2LOP.P       0.29      0.60      0.39       146\n",
            "   C2LOP.gen!g       1.00      0.01      0.01       200\n",
            "Dialplatform.B       0.66      0.99      0.79       177\n",
            "     Dontovo.A       0.86      1.00      0.93       162\n",
            "      Fakerean       0.83      0.99      0.91       381\n",
            " Instantaccess       0.87      1.00      0.93       431\n",
            "    Lolyda.AA1       1.00      0.32      0.49       213\n",
            "    Lolyda.AA2       0.51      1.00      0.68       184\n",
            "    Lolyda.AA3       0.00      0.00      0.00       123\n",
            "     Lolyda.AT       1.00      0.87      0.93       159\n",
            "   Malex.gen!J       0.29      0.12      0.17       136\n",
            " Obfuscator.AD       0.91      1.00      0.95       142\n",
            "      Rbot!gen       0.00      0.00      0.00       158\n",
            "    Skintrim.N       0.00      0.00      0.00        80\n",
            " Swizzor.gen!E       1.00      0.01      0.02       128\n",
            " Swizzor.gen!I       0.00      0.00      0.00       132\n",
            "         VB.AT       0.87      1.00      0.93       408\n",
            "    Wintrim.BX       0.71      0.10      0.18        97\n",
            "       Yuner.A       0.76      1.00      0.86       800\n",
            "\n",
            "      accuracy                           0.56      9339\n",
            "     macro avg       0.62      0.54      0.50      9339\n",
            "  weighted avg       0.65      0.56      0.49      9339\n",
            "\n"
          ]
        },
        {
          "output_type": "stream",
          "name": "stderr",
          "text": [
            "/usr/local/lib/python3.10/dist-packages/sklearn/metrics/_classification.py:1344: UndefinedMetricWarning: Precision and F-score are ill-defined and being set to 0.0 in labels with no predicted samples. Use `zero_division` parameter to control this behavior.\n",
            "  _warn_prf(average, modifier, msg_start, len(result))\n",
            "/usr/local/lib/python3.10/dist-packages/sklearn/metrics/_classification.py:1344: UndefinedMetricWarning: Precision and F-score are ill-defined and being set to 0.0 in labels with no predicted samples. Use `zero_division` parameter to control this behavior.\n",
            "  _warn_prf(average, modifier, msg_start, len(result))\n",
            "/usr/local/lib/python3.10/dist-packages/sklearn/metrics/_classification.py:1344: UndefinedMetricWarning: Precision and F-score are ill-defined and being set to 0.0 in labels with no predicted samples. Use `zero_division` parameter to control this behavior.\n",
            "  _warn_prf(average, modifier, msg_start, len(result))\n"
          ]
        }
      ]
    },
    {
      "cell_type": "markdown",
      "source": [
        "## Defensa del Modelo contra Ataques de Envenenamiento utilizando Detección y Eliminación de Datos envenenados\n",
        "\n",
        "### Enfoque del Método de Defensa\n",
        "\n",
        "En este experimento, aplicamos una técnica de detección y eliminación de datos envenenados para defender un modelo de clasificación de malware contra ataques de envenenamiento. Este tipo de ataque implica insertar datos maliciosos en el conjunto de entrenamiento con el objetivo de comprometer el rendimiento del modelo. La defensa implementada consta de los siguientes pasos:\n",
        "\n",
        "1. **Generar Datos envenenados**: Simulamos un conjunto de datos envenenados perturbando algunos ejemplos del conjunto de datos de entrenamiento original.\n",
        "2. **Detección de Datos envenenados**: Utilizamos un algoritmo de detección de anomalías, en este caso, `Isolation Forest`, para identificar y eliminar los datos envenenados del conjunto de entrenamiento.\n",
        "3. **Reentrenamiento del Modelo**: Entrenamos el modelo con el conjunto de datos limpio, es decir, después de eliminar los datos detectados como envenenados.\n",
        "\n",
        "### Discusión de los Resultados\n",
        "\n",
        "#### Precisión General\n",
        "Después de aplicar la defensa de detección y eliminación de datos envenenados, el modelo alcanzó una precisión general del 96.97% en el conjunto de prueba. Esto representa una mejora significativa en comparación con el rendimiento del modelo sin la aplicación de la defensa.\n",
        "\n",
        "#### Desempeño por Clase\n",
        "- **Clases con Alta Precisión**: La mayoría de las clases, como `Adialer.C`, `Agent.FYI`, y `Allaple.A`, mostraron una precisión y recall perfectos o casi perfectos, lo que indica que el modelo es muy efectivo en la clasificación de estos tipos de malware.\n",
        "- **Clases con Desafíos**: Algunas clases, como `Autorun.K`, aún muestran un bajo rendimiento, lo que sugiere que la detección de datos envenenados podría no ser completamente efectiva para todas las clases o que estos tipos de malware son más difíciles de clasificar correctamente.\n",
        "- **Mejoras y Deterioros**: En general, hubo mejoras notables en la precisión y recall de varias clases después de aplicar la defensa, lo que sugiere que la eliminación de datos envenenados ha ayudado a limpiar el conjunto de datos de entrenamiento y a mejorar el rendimiento del modelo.\n",
        "\n",
        "#### Evaluación de Métricas\n",
        "- **Matriz de Confusión**: La matriz de confusión muestra que la mayoría de las clases fueron correctamente clasificadas, con pocos errores de clasificación. Esto sugiere que el modelo es bastante robusto después de la eliminación de datos envenenados.\n",
        "- **Informe de Clasificación**: El informe de clasificación proporciona detalles sobre la precisión, recall, f1-score y el soporte para cada clase. Las métricas indican un alto desempeño general del modelo, con algunas áreas específicas que aún podrían beneficiarse de una mayor refinación.\n",
        "\n",
        "### Conclusiones\n",
        "La aplicación de la técnica de detección y eliminación de datos envenenados ha demostrado ser efectiva para mejorar la robustez del modelo frente a ataques de envenenamiento. La precisión general del modelo mejoró significativamente, y las métricas de rendimiento para la mayoría de las clases indican una clasificación precisa y fiable. Sin embargo, algunas clases aún presentan desafíos, lo que sugiere la necesidad de continuar refinando las técnicas de detección y mejorar el proceso de limpieza de datos."
      ],
      "metadata": {
        "id": "krgPPLL23U4x"
      }
    },
    {
      "cell_type": "code",
      "source": [
        "from sklearn.ensemble import IsolationForest\n",
        "from art.attacks.poisoning import PoisoningAttackSVM\n",
        "\n",
        "# Paso 1: Generar Datos envenenados (Simulación)\n",
        "# Aquí simplemente perturbamos los datos de entrenamiento existentes para simular el envenenamiento\n",
        "def generate_poisoned_data(generator, poisoning_rate=0.1):\n",
        "    x_batch, y_batch = next(generator)\n",
        "    n_poisoned = int(len(x_batch) * poisoning_rate)\n",
        "    x_poisoned = x_batch.copy()\n",
        "    x_poisoned[:n_poisoned] = np.random.permutation(x_poisoned[:n_poisoned])  # Simula el envenenamiento\n",
        "    return x_poisoned, y_batch\n",
        "\n",
        "# Paso 2: Detección de Datos envenenados\n",
        "def detect_poisoned_data(x_train, contamination=0.1):\n",
        "    # Usar Isolation Forest para detectar anomalías en los datos\n",
        "    isolation_forest = IsolationForest(contamination=contamination)\n",
        "    preds = isolation_forest.fit_predict(x_train.reshape((x_train.shape[0], -1)))  # Convertir imágenes a vectores\n",
        "    clean_data_mask = preds != -1  # -1 indica datos anómalos (envenenados)\n",
        "    return clean_data_mask\n",
        "\n",
        "# Paso 3: Reentrenamiento del Modelo\n",
        "def retrain_model_with_clean_data(model, x_train, y_train, contamination=0.1):\n",
        "    clean_data_mask = detect_poisoned_data(x_train, contamination)\n",
        "    x_clean = x_train[clean_data_mask]\n",
        "    y_clean = y_train[clean_data_mask]\n",
        "    model.fit(x_clean, y_clean, epochs=10, batch_size=32)\n",
        "    return model\n",
        "\n",
        "# Cargar el modelo preexistente\n",
        "model = load_model('malware_classification_model.h5')\n",
        "\n",
        "# Definir el generador de imágenes para el conjunto de entrenamiento\n",
        "datagen = ImageDataGenerator(rescale=1./255)\n",
        "train_generator = datagen.flow_from_directory(directory='/content/drive/MyDrive/malimg_paper_dataset_imgs',\n",
        "                                              target_size=(64, 64),\n",
        "                                              batch_size=32,\n",
        "                                              class_mode='categorical')\n",
        "\n",
        "# Generar un lote de datos envenenados\n",
        "x_poisoned, y_poisoned = generate_poisoned_data(train_generator)\n",
        "\n",
        "# Reentrenar el modelo con datos limpios\n",
        "model = retrain_model_with_clean_data(model, x_poisoned, y_poisoned)\n",
        "\n",
        "# Guardar el modelo reentrenado\n",
        "model.save('malware_classification_cleaned_model.h5')\n",
        "\n",
        "# Evaluar el modelo reentrenado\n",
        "datagen_test = ImageDataGenerator(rescale=1./255)\n",
        "test_generator = datagen_test.flow_from_directory(directory='/content/drive/MyDrive/malimg_paper_dataset_imgs',\n",
        "                                                  target_size=(64, 64),\n",
        "                                                  batch_size=32,\n",
        "                                                  class_mode='categorical',\n",
        "                                                  shuffle=False)\n",
        "\n",
        "test_steps_per_epoch = np.math.ceil(test_generator.samples / test_generator.batch_size)\n",
        "predictions = model.predict(test_generator, steps=test_steps_per_epoch)\n",
        "predicted_classes = np.argmax(predictions, axis=1)\n",
        "true_classes = test_generator.classes\n",
        "class_labels = list(test_generator.class_indices.keys())\n",
        "\n",
        "# Calcular la precisión\n",
        "accuracy = accuracy_score(true_classes, predicted_classes)\n",
        "print(f'Accuracy: {accuracy * 100:.2f}%')\n",
        "\n",
        "# Matriz de confusión\n",
        "conf_matrix = confusion_matrix(true_classes, predicted_classes)\n",
        "print('Confusion Matrix:')\n",
        "print(conf_matrix)\n",
        "\n",
        "# Informe de clasificación\n",
        "report = classification_report(true_classes, predicted_classes, target_names=class_labels)\n",
        "print('Classification Report:')\n",
        "print(report)"
      ],
      "metadata": {
        "colab": {
          "base_uri": "https://localhost:8080/"
        },
        "id": "1mZ91aun3VIy",
        "outputId": "48b48d85-d5d4-478a-edc7-d5b23133d334"
      },
      "execution_count": 11,
      "outputs": [
        {
          "output_type": "stream",
          "name": "stdout",
          "text": [
            "Found 9339 images belonging to 25 classes.\n",
            "Train on 28 samples\n",
            "Epoch 1/10\n",
            "28/28 [==============================] - 1s 24ms/sample - loss: 0.0981 - accuracy: 0.9643\n",
            "Epoch 2/10\n",
            "28/28 [==============================] - 0s 427us/sample - loss: 0.0580 - accuracy: 0.9643\n",
            "Epoch 3/10\n",
            "28/28 [==============================] - 0s 490us/sample - loss: 0.0517 - accuracy: 1.0000\n",
            "Epoch 4/10\n",
            "28/28 [==============================] - 0s 337us/sample - loss: 0.0675 - accuracy: 1.0000\n",
            "Epoch 5/10\n",
            "28/28 [==============================] - 0s 319us/sample - loss: 0.1054 - accuracy: 0.9643\n",
            "Epoch 6/10\n",
            "28/28 [==============================] - 0s 447us/sample - loss: 0.1057 - accuracy: 0.9643\n",
            "Epoch 7/10\n",
            "28/28 [==============================] - 0s 367us/sample - loss: 0.0954 - accuracy: 0.9643\n",
            "Epoch 8/10\n",
            "28/28 [==============================] - 0s 542us/sample - loss: 0.0885 - accuracy: 0.9643\n",
            "Epoch 9/10\n",
            "28/28 [==============================] - 0s 372us/sample - loss: 0.0702 - accuracy: 1.0000\n",
            "Epoch 10/10\n",
            "28/28 [==============================] - 0s 367us/sample - loss: 0.1354 - accuracy: 0.9286\n"
          ]
        },
        {
          "output_type": "stream",
          "name": "stderr",
          "text": [
            "/usr/local/lib/python3.10/dist-packages/keras/src/engine/training.py:3103: UserWarning: You are saving your model as an HDF5 file via `model.save()`. This file format is considered legacy. We recommend using instead the native Keras format, e.g. `model.save('my_model.keras')`.\n",
            "  saving_api.save_model(\n"
          ]
        },
        {
          "output_type": "stream",
          "name": "stdout",
          "text": [
            "Found 9339 images belonging to 25 classes.\n"
          ]
        },
        {
          "output_type": "stream",
          "name": "stderr",
          "text": [
            "<ipython-input-11-e1b2beae7c40>:56: DeprecationWarning: `np.math` is a deprecated alias for the standard library `math` module (Deprecated Numpy 1.25). Replace usages of `np.math` with `math`\n",
            "  test_steps_per_epoch = np.math.ceil(test_generator.samples / test_generator.batch_size)\n",
            "/usr/local/lib/python3.10/dist-packages/keras/src/engine/training_v1.py:2359: UserWarning: `Model.state_updates` will be removed in a future version. This property should not be used in TensorFlow 2.0, as `updates` are applied automatically.\n",
            "  updates=self.state_updates,\n"
          ]
        },
        {
          "output_type": "stream",
          "name": "stdout",
          "text": [
            "Accuracy: 96.97%\n",
            "Confusion Matrix:\n",
            "[[ 122    0    0    0    0    0    0    0    0    0    0    0    0    0\n",
            "     0    0    0    0    0    0    0    0    0    0    0]\n",
            " [   0  116    0    0    0    0    0    0    0    0    0    0    0    0\n",
            "     0    0    0    0    0    0    0    0    0    0    0]\n",
            " [   0    0 2949    0    0    0    0    0    0    0    0    0    0    0\n",
            "     0    0    0    0    0    0    0    0    0    0    0]\n",
            " [   0    0    0 1591    0    0    0    0    0    0    0    0    0    0\n",
            "     0    0    0    0    0    0    0    0    0    0    0]\n",
            " [   0    0    0    0  197    0    0    0    0    0    0    0    0    0\n",
            "     0    0    1    0    0    0    0    0    0    0    0]\n",
            " [   0    0    0    0    0    0    0    0    0    0    0    0    0    0\n",
            "     0    0    0    0    0    0    0    0    0    0  106]\n",
            " [   0    0    5    1    0    0  135    2    0    0    1    0    0    0\n",
            "     0    0    0    0    0    0    1    0    0    1    0]\n",
            " [   0    0    2    3    0    0   36  150    0    0    0    0    0    0\n",
            "     0    0    0    0    2    0    6    1    0    0    0]\n",
            " [   0    0    0    0    0    0    0    0  175    0    0    0    0    0\n",
            "     0    0    0    0    0    0    0    0    2    0    0]\n",
            " [   0    0    0    0    0    0    0    0    0  162    0    0    0    0\n",
            "     0    0    0    0    0    0    0    0    0    0    0]\n",
            " [   0    0    1    1    0    0    0    0    0    0  378    0    0    0\n",
            "     0    0    0    0    0    0    0    0    0    1    0]\n",
            " [   0    0    0    0    0    0    0    0    0    0    0  431    0    0\n",
            "     0    0    0    0    0    0    0    0    0    0    0]\n",
            " [   0    0    0    0    0    0    0    0    0    0    0    0  213    0\n",
            "     0    0    0    0    0    0    0    0    0    0    0]\n",
            " [   0    0    0    0    0    0    0    0    0    0    0    0    2  182\n",
            "     0    0    0    0    0    0    0    0    0    0    0]\n",
            " [   0    0    0    0    0    0    0    0    0    0    0    0    0    0\n",
            "   123    0    0    0    0    0    0    0    0    0    0]\n",
            " [   0    0    0    0    1    0    1    0    0    0    0    0    0    0\n",
            "     0  157    0    0    0    0    0    0    0    0    0]\n",
            " [   0    0    6    0    0    0    0    0    0    0    0    0    0    0\n",
            "     0    0  128    0    0    0    1    0    0    1    0]\n",
            " [   0    0    0    0    0    0    0    0    0    0    0    0    0    0\n",
            "     0    0    0  142    0    0    0    0    0    0    0]\n",
            " [   0    0    0    0    0    0    0    0    0    0    0    0    0    0\n",
            "     0    0    0    0  158    0    0    0    0    0    0]\n",
            " [   0    0    0    0    0    0    0    0    0    0    0    0    0    0\n",
            "     0    0    0    0    0   80    0    0    0    0    0]\n",
            " [   0    0    0    0    0    0    0    0    0    0    0    0    0    0\n",
            "     0    0    0    0    1    0  117   10    0    0    0]\n",
            " [   0    0    0    0    0    0   20    0    0    0    0    0    0    1\n",
            "     0    0    0    0    0    0   65   46    0    0    0]\n",
            " [   0    0    0    0    0    0    0    0    0    0    0    0    0    0\n",
            "     0    0    1    0    0    0    0    0  407    0    0]\n",
            " [   0    0    0    0    0    0    0    0    0    0    0    0    0    0\n",
            "     0    0    0    0    0    0    0    0    0   97    0]\n",
            " [   0    0    0    0    0    0    0    0    0    0    0    0    0    0\n",
            "     0    0    0    0    0    0    0    0    0    0  800]]\n",
            "Classification Report:\n",
            "                precision    recall  f1-score   support\n",
            "\n",
            "     Adialer.C       1.00      1.00      1.00       122\n",
            "     Agent.FYI       1.00      1.00      1.00       116\n",
            "     Allaple.A       1.00      1.00      1.00      2949\n",
            "     Allaple.L       1.00      1.00      1.00      1591\n",
            " Alueron.gen!J       0.99      0.99      0.99       198\n",
            "     Autorun.K       0.00      0.00      0.00       106\n",
            "       C2LOP.P       0.70      0.92      0.80       146\n",
            "   C2LOP.gen!g       0.99      0.75      0.85       200\n",
            "Dialplatform.B       1.00      0.99      0.99       177\n",
            "     Dontovo.A       1.00      1.00      1.00       162\n",
            "      Fakerean       1.00      0.99      0.99       381\n",
            " Instantaccess       1.00      1.00      1.00       431\n",
            "    Lolyda.AA1       0.99      1.00      1.00       213\n",
            "    Lolyda.AA2       0.99      0.99      0.99       184\n",
            "    Lolyda.AA3       1.00      1.00      1.00       123\n",
            "     Lolyda.AT       1.00      0.99      0.99       159\n",
            "   Malex.gen!J       0.98      0.94      0.96       136\n",
            " Obfuscator.AD       1.00      1.00      1.00       142\n",
            "      Rbot!gen       0.98      1.00      0.99       158\n",
            "    Skintrim.N       1.00      1.00      1.00        80\n",
            " Swizzor.gen!E       0.62      0.91      0.74       128\n",
            " Swizzor.gen!I       0.81      0.35      0.49       132\n",
            "         VB.AT       1.00      1.00      1.00       408\n",
            "    Wintrim.BX       0.97      1.00      0.98        97\n",
            "       Yuner.A       0.88      1.00      0.94       800\n",
            "\n",
            "      accuracy                           0.97      9339\n",
            "     macro avg       0.92      0.91      0.91      9339\n",
            "  weighted avg       0.96      0.97      0.96      9339\n",
            "\n"
          ]
        },
        {
          "output_type": "stream",
          "name": "stderr",
          "text": [
            "/usr/local/lib/python3.10/dist-packages/sklearn/metrics/_classification.py:1344: UndefinedMetricWarning: Precision and F-score are ill-defined and being set to 0.0 in labels with no predicted samples. Use `zero_division` parameter to control this behavior.\n",
            "  _warn_prf(average, modifier, msg_start, len(result))\n",
            "/usr/local/lib/python3.10/dist-packages/sklearn/metrics/_classification.py:1344: UndefinedMetricWarning: Precision and F-score are ill-defined and being set to 0.0 in labels with no predicted samples. Use `zero_division` parameter to control this behavior.\n",
            "  _warn_prf(average, modifier, msg_start, len(result))\n",
            "/usr/local/lib/python3.10/dist-packages/sklearn/metrics/_classification.py:1344: UndefinedMetricWarning: Precision and F-score are ill-defined and being set to 0.0 in labels with no predicted samples. Use `zero_division` parameter to control this behavior.\n",
            "  _warn_prf(average, modifier, msg_start, len(result))\n"
          ]
        }
      ]
    }
  ]
}